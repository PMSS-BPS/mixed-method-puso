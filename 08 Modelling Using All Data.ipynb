{
 "cells": [
  {
   "cell_type": "code",
   "execution_count": 123,
   "id": "6034e8c3-8a20-4988-9eff-fae1741ccc42",
   "metadata": {},
   "outputs": [],
   "source": [
    "import pandas as pd"
   ]
  },
  {
   "cell_type": "markdown",
   "id": "eb381682-9a1d-4191-b2a2-0fe3a3579e73",
   "metadata": {},
   "source": [
    "Import Data Sentinel"
   ]
  },
  {
   "cell_type": "code",
   "execution_count": 124,
   "id": "d13c6ecc-9530-4b0c-b378-2fdec52881ae",
   "metadata": {},
   "outputs": [],
   "source": [
    "data_sentinel=pd.read_csv('/data/ksa/00_Code/12_Workshop_Puso/Data untuk modelling/data_compile_agro_sentinel_1.csv',\n",
    "                          sep=',')[['tahun', 'bulan','idsubsegmen_repair','is_puso','VH_61', 'VH_60', 'VH_59', 'VH_58', 'VH_57', 'VH_56', 'VH_55',\n",
    "       'VH_54', 'VH_53', 'VH_52', 'VH_51', 'VH_50', 'VH_49', 'VH_48', 'VH_47',\n",
    "       'VH_46', 'VH_45', 'VH_44', 'VH_43', 'VH_42', 'VH_41', 'VH_40', 'VH_39',\n",
    "       'VH_38', 'VH_37', 'VH_36', 'VH_35', 'VH_34', 'VH_33', 'VH_32', 'VH_31',\n",
    "       'VH_30', 'VH_29', 'VH_28', 'VH_27', 'VH_26', 'VH_25', 'VH_24', 'VH_23',\n",
    "       'VH_22', 'VH_21', 'VH_20', 'VH_19', 'VH_18', 'VH_17', 'VH_16', 'VH_15',\n",
    "       'VH_14', 'VH_13', 'VH_12', 'VH_11', 'VH_10', 'VH_9', 'VH_8', 'VH_7',\n",
    "       'VH_6', 'VH_5', 'VH_4', 'VH_3', 'VH_2', 'VH_1', 'VH_0']]\n",
    "data_sentinel['idsubfinal']=data_sentinel.apply(lambda y: y.idsubsegmen_repair+'#'+str(y.tahun)+'#'+str(y.bulan),axis=1)\n",
    "data_sentinel=data_sentinel.drop_duplicates()"
   ]
  },
  {
   "cell_type": "code",
   "execution_count": 125,
   "id": "d4b8ea99-bce2-429d-a2be-022f9df059e3",
   "metadata": {},
   "outputs": [],
   "source": [
    "data_sentinel_rvi=pd.read_csv('/data/ksa/00_Code/12_Workshop_Puso/Data untuk modelling/data_compile_agro_sentinel_1_rvi.csv',\n",
    "                          sep=',')[['tahun', 'bulan','idsubsegmen_repair','is_puso','RVI_61', 'RVI_60', 'RVI_59', 'RVI_58', 'RVI_57', 'RVI_56', 'RVI_55',\n",
    "       'RVI_54', 'RVI_53', 'RVI_52', 'RVI_51', 'RVI_50', 'RVI_49', 'RVI_48', 'RVI_47',\n",
    "       'RVI_46', 'RVI_45', 'RVI_44', 'RVI_43', 'RVI_42', 'RVI_41', 'RVI_40', 'RVI_39',\n",
    "       'RVI_38', 'RVI_37', 'RVI_36', 'RVI_35', 'RVI_34', 'RVI_33', 'RVI_32', 'RVI_31',\n",
    "       'RVI_30', 'RVI_29', 'RVI_28', 'RVI_27', 'RVI_26', 'RVI_25', 'RVI_24', 'RVI_23',\n",
    "       'RVI_22', 'RVI_21', 'RVI_20', 'RVI_19', 'RVI_18', 'RVI_17', 'RVI_16', 'RVI_15',\n",
    "       'RVI_14', 'RVI_13', 'RVI_12', 'RVI_11', 'RVI_10', 'RVI_9', 'RVI_8', 'RVI_7',\n",
    "       'RVI_6', 'RVI_5', 'RVI_4', 'RVI_3', 'RVI_2', 'RVI_1', 'RVI_0']]\n",
    "data_sentinel_rvi['idsubfinal']=data_sentinel_rvi.apply(lambda y: y.idsubsegmen_repair+'#'+str(y.tahun)+'#'+str(y.bulan),axis=1)\n",
    "data_sentinel_rvi=data_sentinel_rvi.drop_duplicates()"
   ]
  },
  {
   "cell_type": "markdown",
   "id": "fcfa41f8-4157-4d51-8d46-24c5ee85da88",
   "metadata": {},
   "source": [
    "Import Data ERA5"
   ]
  },
  {
   "cell_type": "code",
   "execution_count": 126,
   "id": "84eb4d53-fad3-48bf-b511-1aa675e66d54",
   "metadata": {},
   "outputs": [],
   "source": [
    "data_ERA5=pd.read_csv('/data/ksa/00_Code/12_Workshop_Puso/Data untuk modelling/data_compile_agro_ERA5 data.csv',sep=';').drop(['Unnamed: 0',\n",
    "          'idsubfinal', 'kdprov','idkab','idkec','idsegmen'],axis=1)\n",
    "data_ERA5['idsubfinal']=data_ERA5.apply(lambda y: y.idsubsegmen_repair+'#'+str(y.tahun)+'#'+str(y.bulan),axis=1)"
   ]
  },
  {
   "cell_type": "code",
   "execution_count": 127,
   "id": "9ffa7dc3-ac83-48d4-9306-e85a5074d0c4",
   "metadata": {},
   "outputs": [],
   "source": [
    "data_ERA5=data_ERA5.drop_duplicates()"
   ]
  },
  {
   "cell_type": "markdown",
   "id": "18c2b305-a9ef-4d52-97e6-9bb5b100e2e5",
   "metadata": {},
   "source": [
    "Import Data Geospasial Lain"
   ]
  },
  {
   "cell_type": "code",
   "execution_count": 128,
   "id": "89ef94e1-098d-4956-b979-e486e2a7ca2a",
   "metadata": {},
   "outputs": [],
   "source": [
    "data_geospasial=pd.read_csv('/data/ksa/00_Code/12_Workshop_Puso/Data untuk modelling/data_compile_agro_geospasial_lain.csv',sep=',')"
   ]
  },
  {
   "cell_type": "code",
   "execution_count": 129,
   "id": "e7785335-9ba3-45ce-aea0-1cb95e4f9bb7",
   "metadata": {},
   "outputs": [],
   "source": [
    "data_geospasial['idsubfinal']=data_geospasial.apply(lambda y: y.idsubsegmen_repair+'#'+str(y.tahun)+'#'+str(y.bulan),axis=1)\n",
    "data_geospasial=data_geospasial[[\n",
    "       'tahun','bulan','idsubsegmen_repair','is_puso','idsubfinal','slope','elevation','landform']]"
   ]
  },
  {
   "cell_type": "markdown",
   "id": "16aa99d8-c0f0-4909-9860-1ddd8032e253",
   "metadata": {},
   "source": [
    "Import Data CHRIP"
   ]
  },
  {
   "cell_type": "code",
   "execution_count": 130,
   "id": "0ed60453-30ac-4060-a49a-5b3d00219a27",
   "metadata": {},
   "outputs": [],
   "source": [
    "data_CHIRP=pd.read_csv('/data/ksa/00_Code/12_Workshop_Puso/Data untuk modelling/data_compile_agro_CHIRP.csv',sep=',')[[\n",
    "       'tahun','bulan','idsubsegmen_repair','is_puso','PREC_23', 'PREC_22', 'PREC_21', \n",
    "       'PREC_20', 'PREC_19', 'PREC_18',\n",
    "       'PREC_17', 'PREC_16', 'PREC_15', 'PREC_14', 'PREC_13', 'PREC_12',\n",
    "       'PREC_11', 'PREC_10', 'PREC_9', 'PREC_8', 'PREC_7', 'PREC_6', 'PREC_5',\n",
    "       'PREC_4', 'PREC_3', 'PREC_2', 'PREC_1', 'PREC_0']]"
   ]
  },
  {
   "cell_type": "code",
   "execution_count": 131,
   "id": "8cc36aa9-4778-476b-b260-1ac07f5cf40d",
   "metadata": {},
   "outputs": [],
   "source": [
    "data_CHIRP['idsubfinal']=data_CHIRP.apply(lambda y: y.idsubsegmen_repair+'#'+str(y.tahun)+'#'+str(y.bulan),axis=1)"
   ]
  },
  {
   "cell_type": "code",
   "execution_count": 132,
   "id": "ad91f517-d0d0-44a6-adc7-01deeb6256ae",
   "metadata": {},
   "outputs": [],
   "source": [
    "data_CHIRP=data_CHIRP.drop_duplicates()"
   ]
  },
  {
   "cell_type": "markdown",
   "id": "dc4d7f67-9dac-4837-8e1c-5c52a86b1737",
   "metadata": {},
   "source": [
    "Import Data Tumbuh Padi"
   ]
  },
  {
   "cell_type": "code",
   "execution_count": 133,
   "id": "f7947752-978d-4300-bf63-f46a5a0560c1",
   "metadata": {},
   "outputs": [],
   "source": [
    "data_tumbuh_padi=pd.read_csv('/data/ksa/00_Code/12_Workshop_Puso/Data untuk modelling/data_compile_agro_tumbuh_padi.csv',\n",
    "                             sep=',').rename(columns={'Band_1':'IP2020','Band_2':'IP2021','Band_3':'IP2022','Band_4':'IP2023'})[[\n",
    "       'tahun','bulan','idsubsegmen_repair','is_puso', 'IP2020',\n",
    "       'IP2021', 'IP2022', 'IP2023']]"
   ]
  },
  {
   "cell_type": "code",
   "execution_count": 134,
   "id": "571e122b-6e96-43c5-bffb-d9df39324871",
   "metadata": {},
   "outputs": [],
   "source": [
    "data_tumbuh_padi['idsubfinal']=data_tumbuh_padi.apply(lambda y: y.idsubsegmen_repair+'#'+str(y.tahun)+'#'+str(y.bulan),axis=1)"
   ]
  },
  {
   "cell_type": "code",
   "execution_count": 135,
   "id": "9c37edbe-f575-4c31-9b95-ca8a6d215ac8",
   "metadata": {},
   "outputs": [],
   "source": [
    "data_tumbuh_padi=data_tumbuh_padi.drop_duplicates()"
   ]
  },
  {
   "cell_type": "code",
   "execution_count": 136,
   "id": "145af4b1-e2ef-46c2-81db-bdc863ebe0da",
   "metadata": {},
   "outputs": [],
   "source": [
    "data=data_sentinel.merge(data_CHIRP).merge(data_ERA5).merge(data_tumbuh_padi).merge(data_geospasial).merge(data_sentinel_rvi)"
   ]
  },
  {
   "cell_type": "code",
   "execution_count": 137,
   "id": "d67400bf-a0d4-47e5-97fa-4ac1cb362f2c",
   "metadata": {},
   "outputs": [],
   "source": [
    "data=data.drop_duplicates()"
   ]
  },
  {
   "cell_type": "code",
   "execution_count": 138,
   "id": "370cd451-9021-4a38-8f7e-b95ed41731fc",
   "metadata": {},
   "outputs": [],
   "source": [
    "import numpy as np\n",
    "from sklearn.model_selection import StratifiedKFold, train_test_split\n",
    "from sklearn.metrics import (\n",
    "    precision_score, recall_score, f1_score, accuracy_score, confusion_matrix, roc_auc_score\n",
    ")\n",
    "import xgboost as xgb"
   ]
  },
  {
   "cell_type": "code",
   "execution_count": 155,
   "id": "7c9a9067-f0b4-48e4-b444-dba2fbb80d82",
   "metadata": {},
   "outputs": [],
   "source": [
    "# data ambil setahun\n",
    "VH_cols=[f'VH_{i}' for i in range(0,32)]\n",
    "RVI_cols=[f'RVI_{i}' for i in range(0,32)]\n",
    "CHRIP_cols=[f'PREC_{i}' for i in range(0,13)]\n",
    "ERA5_cols=[k for k in [j for j in [i for i in data_ERA5.columns if i[:4] == 'ERA5'] \n",
    "                       if int(j.split('_')[-1])<32] if k.split('_')[2]=='mean']\n",
    "tumbuh_padi=['IP2020','IP2021', 'IP2022', 'IP2023']\n",
    "geospasial_lain=['landform','elevation','slope']\n",
    "agro_setahun=VH_cols+RVI_cols+CHRIP_cols+ERA5_cols+tumbuh_padi+geospasial_lain\n",
    "agro_setahun_x=agro_setahun+['idsubfinal','is_puso']\n",
    "data_setahun=data[agro_setahun_x]"
   ]
  },
  {
   "cell_type": "code",
   "execution_count": 140,
   "id": "945f9dd5-a7e5-41ca-8c23-25e6051417b6",
   "metadata": {},
   "outputs": [],
   "source": [
    "# data ambil duatahun\n",
    "VH_cols=[f'VH_{i}' for i in range(0,62)]\n",
    "RVI_cols=[f'RVI_{i}' for i in range(0,62)]\n",
    "CHRIP_cols=[f'PREC_{i}' for i in range(0,24)]\n",
    "ERA5_cols=[k for k in [j for j in [i for i in data_ERA5.columns if i[:4] == 'ERA5'] \n",
    "                       if int(j.split('_')[-1])<62] if k.split('_')[2]=='mean']\n",
    "tumbuh_padi=['IP2020','IP2021', 'IP2022', 'IP2023']\n",
    "geospasial_lain=['landform','elevation','slope']\n",
    "agro_2tahun=VH_cols+RVI_cols+CHRIP_cols+ERA5_cols+tumbuh_padi+geospasial_lain\n",
    "agro_2tahun_x=agro_2tahun+['idsubfinal','is_puso']\n",
    "data_2tahun=data[agro_2tahun_x]"
   ]
  },
  {
   "cell_type": "code",
   "execution_count": 156,
   "id": "2742c4ad-10f4-4daa-9861-275267f86aa2",
   "metadata": {},
   "outputs": [],
   "source": [
    "# data ambil 6 bulan\n",
    "VH_cols=[f'VH_{i}' for i in range(0,16)]\n",
    "RVI_cols=[f'RVI_{i}' for i in range(0,16)]\n",
    "CHRIP_cols=[f'PREC_{i}' for i in range(0,6)]\n",
    "ERA5_cols=[k for k in [j for j in [i for i in data_ERA5.columns if i[:4] == 'ERA5'] \n",
    "                       if int(j.split('_')[-1])<16] if k.split('_')[2]=='mean']\n",
    "tumbuh_padi=['IP2020','IP2021', 'IP2022', 'IP2023']\n",
    "geospasial_lain=['landform','elevation','slope']\n",
    "agro_stgtahun=VH_cols+RVI_cols+CHRIP_cols+ERA5_cols+tumbuh_padi+geospasial_lain\n",
    "agro_stgtahun_x=agro_stgtahun+['idsubfinal','is_puso']\n",
    "data_stgtahun=data[agro_stgtahun_x]"
   ]
  },
  {
   "cell_type": "code",
   "execution_count": 157,
   "id": "be37881b-dfc9-453c-88c9-ec67e64cab74",
   "metadata": {},
   "outputs": [],
   "source": [
    "# data ambil 3 bulan\n",
    "VH_cols=[f'VH_{i}' for i in range(0,8)]\n",
    "RVI_cols=[f'RVI_{i}' for i in range(0,8)]\n",
    "CHRIP_cols=[f'PREC_{i}' for i in range(0,3)]\n",
    "ERA5_cols=[k for k in [j for j in [i for i in data_ERA5.columns if i[:4] == 'ERA5'] \n",
    "                       if int(j.split('_')[-1])<8] if k.split('_')[2]=='mean']\n",
    "tumbuh_padi=['IP2020','IP2021', 'IP2022', 'IP2023']\n",
    "geospasial_lain=['landform','elevation','slope']\n",
    "agro_3bulan=VH_cols+RVI_cols+CHRIP_cols+ERA5_cols+tumbuh_padi+geospasial_lain\n",
    "agro_3bulan_x=agro_3bulan+['idsubfinal','is_puso']\n",
    "data_3bulan=data[agro_3bulan_x]"
   ]
  },
  {
   "cell_type": "code",
   "execution_count": 158,
   "id": "2f2d2bd8-e881-4676-8aab-b7e7b0db4ada",
   "metadata": {},
   "outputs": [],
   "source": [
    "col_category=['IP2020','IP2021', 'IP2022', 'IP2023','landform']"
   ]
  },
  {
   "cell_type": "code",
   "execution_count": 159,
   "id": "ffc04e6c-3063-4f24-b2f9-08298c3a2822",
   "metadata": {},
   "outputs": [
    {
     "name": "stderr",
     "output_type": "stream",
     "text": [
      "/tmp/ipykernel_118192/1574166104.py:2: SettingWithCopyWarning: \n",
      "A value is trying to be set on a copy of a slice from a DataFrame.\n",
      "Try using .loc[row_indexer,col_indexer] = value instead\n",
      "\n",
      "See the caveats in the documentation: https://pandas.pydata.org/pandas-docs/stable/user_guide/indexing.html#returning-a-view-versus-a-copy\n",
      "  data_3bulan[x]=data_3bulan[x].astype(\"category\")\n",
      "/tmp/ipykernel_118192/1574166104.py:3: SettingWithCopyWarning: \n",
      "A value is trying to be set on a copy of a slice from a DataFrame.\n",
      "Try using .loc[row_indexer,col_indexer] = value instead\n",
      "\n",
      "See the caveats in the documentation: https://pandas.pydata.org/pandas-docs/stable/user_guide/indexing.html#returning-a-view-versus-a-copy\n",
      "  data_stgtahun[x]=data_stgtahun[x].astype(\"category\")\n",
      "/tmp/ipykernel_118192/1574166104.py:4: SettingWithCopyWarning: \n",
      "A value is trying to be set on a copy of a slice from a DataFrame.\n",
      "Try using .loc[row_indexer,col_indexer] = value instead\n",
      "\n",
      "See the caveats in the documentation: https://pandas.pydata.org/pandas-docs/stable/user_guide/indexing.html#returning-a-view-versus-a-copy\n",
      "  data_2tahun[x]=data_2tahun[x].astype(\"category\")\n",
      "/tmp/ipykernel_118192/1574166104.py:5: SettingWithCopyWarning: \n",
      "A value is trying to be set on a copy of a slice from a DataFrame.\n",
      "Try using .loc[row_indexer,col_indexer] = value instead\n",
      "\n",
      "See the caveats in the documentation: https://pandas.pydata.org/pandas-docs/stable/user_guide/indexing.html#returning-a-view-versus-a-copy\n",
      "  data_setahun[x]=data_setahun[x].astype(\"category\")\n"
     ]
    }
   ],
   "source": [
    "for x in col_category:\n",
    "    data_3bulan[x]=data_3bulan[x].astype(\"category\")\n",
    "    data_stgtahun[x]=data_stgtahun[x].astype(\"category\")\n",
    "    data_2tahun[x]=data_2tahun[x].astype(\"category\")\n",
    "    data_setahun[x]=data_setahun[x].astype(\"category\")"
   ]
  },
  {
   "cell_type": "code",
   "execution_count": 145,
   "id": "cd131c27-7c12-4e40-b5a5-65815b218e6d",
   "metadata": {},
   "outputs": [],
   "source": [
    "## Load Library\n",
    "\n",
    "import numpy as np\n",
    "import pandas as pd\n",
    "\n",
    "from sklearn.model_selection import train_test_split, StratifiedKFold\n",
    "from sklearn.metrics import (\n",
    "    precision_score, recall_score, f1_score, accuracy_score, roc_auc_score,\n",
    "    confusion_matrix, classification_report\n",
    ")\n",
    "import xgboost as xgb\n",
    "from sklearn.datasets import load_iris\n",
    "from sklearn.preprocessing import LabelBinarizer\n",
    "import matplotlib.pyplot as plt\n",
    "import seaborn as sns\n",
    "from sklearn.metrics import precision_score, recall_score, accuracy_score, f1_score, roc_auc_score, confusion_matrix, classification_report\n",
    "from sklearn.preprocessing import LabelEncoder\n",
    "\n",
    "import warnings\n",
    "warnings.filterwarnings(\"ignore\", category=UserWarning, module=\"xgboost\")\n"
   ]
  },
  {
   "cell_type": "code",
   "execution_count": 149,
   "id": "1405ee5d-52da-4934-9523-4d465962f732",
   "metadata": {},
   "outputs": [],
   "source": [
    "def training(X, y, scenario_name, use_gpu=False): \n",
    "    # Convert to numpy for speed\n",
    "    X = X.to_numpy() if isinstance(X, pd.DataFrame) else X\n",
    "    y = y.to_numpy() if isinstance(y, pd.Series) else y\n",
    "    \n",
    "    # Split data into train-test (70%-30%)\n",
    "    X_train, X_test, y_train, y_test = train_test_split(\n",
    "        X, y, test_size=0.3, stratify=y, random_state=1234\n",
    "    )\n",
    "    scale_pos_weight = np.sum(y_train == 0) / np.sum(y_train == 1)  # Majority/Minority class ratio\n",
    "    \n",
    "    # Stratified 3-Fold Cross Validation\n",
    "    skf = StratifiedKFold(n_splits=3, shuffle=True, random_state=1234)\n",
    "    metrics = []\n",
    "    \n",
    "    # Define tree method for GPU acceleration if enabled\n",
    "    tree_method = \"gpu_hist\" if use_gpu else \"hist\"\n",
    "    \n",
    "    for train_idx, val_idx in skf.split(X_train, y_train):\n",
    "        X_train_fold, X_val_fold = X_train[train_idx, :], X_train[val_idx, :]\n",
    "        y_train_fold, y_val_fold = y_train[train_idx], y_train[val_idx]\n",
    "    \n",
    "        # Train XGBoost model with optimizations\n",
    "        model = xgb.XGBClassifier(\n",
    "            use_label_encoder=False,\n",
    "            eval_metric=\"logloss\",\n",
    "            njobs=20,\n",
    "            random_state=1234,\n",
    "            scale_pos_weight=scale_pos_weight,\n",
    "            enable_categorical=False,  # Use False when converting to numpy\n",
    "            tree_method=tree_method,  # GPU or CPU-optimized\n",
    "            max_depth=5,  # Reduce tree depth for speed\n",
    "            learning_rate=0.2,  # Higher learning rate speeds up training\n",
    "            n_estimators=100,  # Reduce estimators for faster training\n",
    "            lambda_=1.0,  # L2 regularization term (Ridge)\n",
    "            alpha=0.5,    # L1 regularization term (Lasso)\n",
    "        )\n",
    "        model.fit(\n",
    "            X_train_fold,\n",
    "            y_train_fold,\n",
    "            eval_set=[(X_val_fold, y_val_fold)],\n",
    "            verbose=False,\n",
    "            #early_stopping_rounds=10  # Stops training if no improvement\n",
    "        )\n",
    "    \n",
    "        # Predict on validation data\n",
    "        y_pred = model.predict(X_val_fold)\n",
    "        y_prob = model.predict_proba(X_val_fold)[:, 1]  # Probabilities for positive class\n",
    "    \n",
    "        # Calculate metrics\n",
    "        precision = precision_score(y_val_fold, y_pred, average=None, zero_division=0)\n",
    "        recall = recall_score(y_val_fold, y_pred, average=None, zero_division=0)\n",
    "        accuracy = accuracy_score(y_val_fold, y_pred)\n",
    "        f1_macro = f1_score(y_val_fold, y_pred, average=\"macro\")\n",
    "        auc = roc_auc_score(y_val_fold, y_prob)\n",
    "    \n",
    "        metrics.append({\n",
    "            \"precision_per_class\": precision,\n",
    "            \"recall_per_class\": recall,\n",
    "            \"accuracy\": accuracy,\n",
    "            \"f1_macro\": f1_macro,\n",
    "            \"auc\": auc\n",
    "        })\n",
    "\n",
    "    # Compute average metrics across folds\n",
    "    avg_precision = np.mean([m[\"precision_per_class\"] for m in metrics], axis=0)\n",
    "    avg_recall = np.mean([m[\"recall_per_class\"] for m in metrics], axis=0)\n",
    "    avg_accuracy = np.mean([m[\"accuracy\"] for m in metrics])\n",
    "    avg_f1_macro = np.mean([m[\"f1_macro\"] for m in metrics])\n",
    "    avg_auc = np.mean([m[\"auc\"] for m in metrics])\n",
    "    \n",
    "    print(f\"Average Metrics across Folds ({scenario_name}):\")\n",
    "    print(\"Precision per class:\", avg_precision)\n",
    "    print(\"Recall per class:\", avg_recall)\n",
    "    print(\"Accuracy:\", avg_accuracy)\n",
    "    print(\"F1-Macro:\", avg_f1_macro)\n",
    "    print(\"AUC ROC:\", avg_auc)\n",
    "    \n",
    "    # Train final model on the full training set\n",
    "    model.fit(X_train, y_train)\n",
    "    y_test_pred = model.predict(X_test)\n",
    "    y_test_prob = model.predict_proba(X_test)[:, 1]  # Probabilities for positive class\n",
    "    \n",
    "    # Confusion Matrix\n",
    "    conf_matrix = confusion_matrix(y_test, y_test_pred)\n",
    "    plt.figure(figsize=(8, 6))\n",
    "    sns.heatmap(conf_matrix, annot=True, fmt=\"d\", cmap=\"Blues\", xticklabels=[\"Class 0\", \"Class 1\"], yticklabels=[\"Class 0\", \"Class 1\"])\n",
    "    plt.xlabel(\"Predicted\")\n",
    "    plt.ylabel(\"True\")\n",
    "    plt.title(f\"Confusion Matrix ({scenario_name})\")\n",
    "    plt.show()\n",
    "\n",
    "    # Feature importance\n",
    "    feature_importances = model.feature_importances_\n",
    "    importance_df = pd.DataFrame({\n",
    "        \"Feature\": [f\"feature_{i}\" for i in range(X_train.shape[1])],\n",
    "        \"Importance\": feature_importances\n",
    "    }).sort_values(by=\"Importance\", ascending=False).head(8)\n",
    "    print(f\"\\n Top 8 Features ({scenario_name}):\\n\", importance_df)\n",
    "\n",
    "    # Final Metrics\n",
    "    precision_test = precision_score(y_test, y_test_pred, average=None, zero_division=0)\n",
    "    recall_test = recall_score(y_test, y_test_pred, average=None, zero_division=0)\n",
    "    accuracy_test = accuracy_score(y_test, y_test_pred)\n",
    "    f1_macro_test = f1_score(y_test, y_test_pred, average=\"macro\")\n",
    "    auc_test = roc_auc_score(y_test, y_test_prob)\n",
    "    \n",
    "    print(f\"\\nPrecision per class (Test) ({scenario_name}):\", precision_test)\n",
    "    print(f\"Recall per class (Test) ({scenario_name}):\", recall_test)\n",
    "    print(f\"Accuracy (Test) ({scenario_name}):\", accuracy_test)\n",
    "    print(f\"F1-Macro (Test) ({scenario_name}):\", f1_macro_test)\n",
    "    print(f\"AUC ROC (Test) ({scenario_name}):\", auc_test)\n",
    "    \n",
    "    return {\n",
    "        \"scenario\": scenario_name,\n",
    "        \"precision_test_class_0\": precision_test[0],\n",
    "        \"precision_test_class_1\": precision_test[1],\n",
    "        \"recall_test_class_0\": recall_test[0],\n",
    "        \"recall_test_class_1\": recall_test[1],\n",
    "        \"accuracy_test\": accuracy_test,\n",
    "        \"f1_macro_test\": f1_macro_test,\n",
    "        \"auc_test\": auc_test,\n",
    "        \"top_5_features\": importance_df\n",
    "    }\n"
   ]
  },
  {
   "cell_type": "code",
   "execution_count": 185,
   "id": "0935e5a1-345f-4539-b503-238933b080ea",
   "metadata": {},
   "outputs": [
    {
     "data": {
      "text/plain": [
       "90"
      ]
     },
     "execution_count": 185,
     "metadata": {},
     "output_type": "execute_result"
    }
   ],
   "source": [
    "len(agro_3bulan)"
   ]
  },
  {
   "cell_type": "code",
   "execution_count": 160,
   "id": "ac1a8ad7-2c96-4c9b-a2a7-9b7cb0e7d96d",
   "metadata": {},
   "outputs": [
    {
     "name": "stdout",
     "output_type": "stream",
     "text": [
      "Average Metrics across Folds (3 bulan):\n",
      "Precision per class: [0.93403427 0.61618223]\n",
      "Recall per class: [0.95004541 0.53637317]\n",
      "Accuracy: 0.8976744332414435\n",
      "F1-Macro: 0.7557681429298757\n",
      "AUC ROC: 0.8494576471361084\n"
     ]
    },
    {
     "data": {
      "image/png": "[encoded data removed]",
      "text/plain": [
       "<Figure size 800x600 with 2 Axes>"
      ]
     },
     "metadata": {},
     "output_type": "display_data"
    },
    {
     "name": "stdout",
     "output_type": "stream",
     "text": [
      "\n",
      " Top 8 Features (3 bulan):\n",
      "        Feature  Importance\n",
      "22  feature_22    0.144538\n",
      "17  feature_17    0.037003\n",
      "77  feature_77    0.019424\n",
      "63  feature_63    0.017623\n",
      "68  feature_68    0.016555\n",
      "69  feature_69    0.015686\n",
      "43  feature_43    0.015056\n",
      "57  feature_57    0.014925\n",
      "\n",
      "Precision per class (Test) (3 bulan): [0.93519164 0.60215054]\n",
      "Recall per class (Test) (3 bulan): [0.94774011 0.54634146]\n",
      "Accuracy (Test) (3 bulan): 0.8969771745835904\n",
      "F1-Macro (Test) (3 bulan): 0.7571570436540864\n",
      "AUC ROC (Test) (3 bulan): 0.8712725644205594\n"
     ]
    }
   ],
   "source": [
    "X = data_3bulan[agro_3bulan]\n",
    "y = data_3bulan[\"is_puso\"]\n",
    "metrics_3bulan = training(X, y, \"3 bulan\")\n",
    "#metrics_6bulan = training(X, y, \"Setahun\")\n",
    "#all_metrics.append(metrics_setahun)"
   ]
  },
  {
   "cell_type": "code",
   "execution_count": 180,
   "id": "f1546109-6756-489f-b97d-a55067d26ba5",
   "metadata": {},
   "outputs": [
    {
     "name": "stdout",
     "output_type": "stream",
     "text": [
      "ERA5_tp_mean_04\n",
      "PREC_1\n",
      "ERA5_swvl1_mean_05\n",
      "ERA5_e_mean_03\n",
      "ERA5_stl1_mean_06\n",
      "ERA5_stl1_mean_05\n",
      "ERA5_crr_mean_07\n",
      "ERA5_pev_mean_01\n"
     ]
    }
   ],
   "source": [
    "features_5=[int(i.split('_')[1]) for i in metrics_3bulan['top_5_features']['Feature'].tolist()]\n",
    "for i in features_5:\n",
    "    print(agro_3bulan[i])"
   ]
  },
  {
   "cell_type": "code",
   "execution_count": 186,
   "id": "1d3835fa-4ede-40b7-8b4b-5515e23716ad",
   "metadata": {},
   "outputs": [
    {
     "data": {
      "text/plain": [
       "173"
      ]
     },
     "execution_count": 186,
     "metadata": {},
     "output_type": "execute_result"
    }
   ],
   "source": [
    "len(agro_stgtahun)"
   ]
  },
  {
   "cell_type": "code",
   "execution_count": 161,
   "id": "f7f2ed72-0563-47c9-a51e-9a620d18a44d",
   "metadata": {},
   "outputs": [
    {
     "name": "stdout",
     "output_type": "stream",
     "text": [
      "Average Metrics across Folds (6 bulan):\n",
      "Precision per class: [0.93487288 0.64644064]\n",
      "Recall per class: [0.95519225 0.54063155]\n",
      "Accuracy: 0.9027000490918017\n",
      "F1-Macro: 0.7650176423088926\n",
      "AUC ROC: 0.8565944433971785\n"
     ]
    },
    {
     "data": {
      "image/png": "[encoded data removed]",
      "text/plain": [
       "<Figure size 800x600 with 2 Axes>"
      ]
     },
     "metadata": {},
     "output_type": "display_data"
    },
    {
     "name": "stdout",
     "output_type": "stream",
     "text": [
      "\n",
      " Top 8 Features (6 bulan):\n",
      "          Feature  Importance\n",
      "49    feature_49    0.085108\n",
      "33    feature_33    0.026840\n",
      "100  feature_100    0.024638\n",
      "126  feature_126    0.015433\n",
      "62    feature_62    0.014371\n",
      "143  feature_143    0.012891\n",
      "116  feature_116    0.011820\n",
      "135  feature_135    0.011805\n",
      "\n",
      "Precision per class (Test) (6 bulan): [0.93884642 0.64285714]\n",
      "Recall per class (Test) (6 bulan): [0.95409605 0.57073171]\n",
      "Accuracy (Test) (6 bulan): 0.905613818630475\n",
      "F1-Macro (Test) (6 bulan): 0.7755304850731071\n",
      "AUC ROC (Test) (6 bulan): 0.8722130356896789\n"
     ]
    }
   ],
   "source": [
    "X = data_stgtahun[agro_stgtahun]\n",
    "y = data_stgtahun[\"is_puso\"]\n",
    "metrics_6bulan = training(X, y, \"6 bulan\")\n",
    "#metrics_6bulan = training(X, y, \"Setahun\")\n",
    "#all_metrics.append(metrics_setahun)"
   ]
  },
  {
   "cell_type": "code",
   "execution_count": 181,
   "id": "eeb01661-ae04-42bf-82cc-587f2d3310b6",
   "metadata": {},
   "outputs": [
    {
     "name": "stdout",
     "output_type": "stream",
     "text": [
      "ERA5_tp_mean_04\n",
      "PREC_1\n",
      "ERA5_crr_mean_01\n",
      "ERA5_e_mean_07\n",
      "ERA5_t2m_mean_07\n",
      "ERA5_stl1_mean_06\n",
      "ERA5_pev_mean_01\n",
      "ERA5_stl1_mean_14\n"
     ]
    }
   ],
   "source": [
    "features_5=[int(i.split('_')[1]) for i in metrics_6bulan['top_5_features']['Feature'].tolist()]\n",
    "for i in features_5:\n",
    "    print(agro_stgtahun[i])"
   ]
  },
  {
   "cell_type": "code",
   "execution_count": 187,
   "id": "ff5fd211-e261-4fd8-a3ed-84cdab0c99e2",
   "metadata": {},
   "outputs": [
    {
     "data": {
      "text/plain": [
       "340"
      ]
     },
     "execution_count": 187,
     "metadata": {},
     "output_type": "execute_result"
    }
   ],
   "source": [
    "len(agro_setahun)"
   ]
  },
  {
   "cell_type": "code",
   "execution_count": 162,
   "id": "a3d6b9a6-dff0-403e-94cd-4389fb14971d",
   "metadata": {},
   "outputs": [
    {
     "name": "stdout",
     "output_type": "stream",
     "text": [
      "Average Metrics across Folds (12 bulan):\n",
      "Precision per class: [0.93368641 0.67261536]\n",
      "Recall per class: [0.96215562 0.52803983]\n",
      "Accuracy: 0.9071921587385505\n",
      "F1-Macro: 0.7683874400178188\n",
      "AUC ROC: 0.8490685878284845\n"
     ]
    },
    {
     "data": {
      "image/png": "[encoded data removed]",
      "text/plain": [
       "<Figure size 800x600 with 2 Axes>"
      ]
     },
     "metadata": {},
     "output_type": "display_data"
    },
    {
     "name": "stdout",
     "output_type": "stream",
     "text": [
      "\n",
      " Top 8 Features (12 bulan):\n",
      "          Feature  Importance\n",
      "104  feature_104    0.094166\n",
      "65    feature_65    0.018211\n",
      "185  feature_185    0.018184\n",
      "96    feature_96    0.016295\n",
      "156  feature_156    0.015513\n",
      "277  feature_277    0.013650\n",
      "121  feature_121    0.013498\n",
      "249  feature_249    0.013386\n",
      "\n",
      "Precision per class (Test) (12 bulan): [0.93603851 0.67065868]\n",
      "Recall per class (Test) (12 bulan): [0.96115819 0.54634146]\n",
      "Accuracy (Test) (12 bulan): 0.9086983343615053\n",
      "F1-Macro (Test) (12 bulan): 0.7752912966917688\n",
      "AUC ROC (Test) (12 bulan): 0.871331128565523\n"
     ]
    }
   ],
   "source": [
    "X = data_setahun[agro_setahun]\n",
    "y = data_setahun[\"is_puso\"]\n",
    "metrics_12bulan = training(X, y, \"12 bulan\")\n",
    "#metrics_6bulan = training(X, y, \"Setahun\")\n",
    "#all_metrics.append(metrics_setahun)"
   ]
  },
  {
   "cell_type": "code",
   "execution_count": 182,
   "id": "6686da19-68ea-4fcf-bf08-81813073c908",
   "metadata": {},
   "outputs": [
    {
     "name": "stdout",
     "output_type": "stream",
     "text": [
      "ERA5_tp_mean_04\n",
      "PREC_1\n",
      "ERA5_crr_mean_19\n",
      "ERA5_tp_mean_12\n",
      "ERA5_d2m_mean_16\n",
      "ERA5_stl1_mean_23\n",
      "ERA5_t2m_mean_19\n",
      "ERA5_e_mean_19\n"
     ]
    }
   ],
   "source": [
    "features_5=[int(i.split('_')[1]) for i in metrics_12bulan['top_5_features']['Feature'].tolist()]\n",
    "for i in features_5:\n",
    "    print(agro_setahun[i])"
   ]
  },
  {
   "cell_type": "code",
   "execution_count": 188,
   "id": "1aab25a7-ce93-4d9a-b979-1296f080a017",
   "metadata": {},
   "outputs": [
    {
     "data": {
      "text/plain": [
       "605"
      ]
     },
     "execution_count": 188,
     "metadata": {},
     "output_type": "execute_result"
    }
   ],
   "source": [
    "len(agro_2tahun)"
   ]
  },
  {
   "cell_type": "code",
   "execution_count": 165,
   "id": "a987e2ae-626f-46d4-9846-f8f5b782f25c",
   "metadata": {},
   "outputs": [
    {
     "name": "stdout",
     "output_type": "stream",
     "text": [
      "Average Metrics across Folds (24 bulan):\n",
      "Precision per class: [0.93364412 0.65078898]\n",
      "Recall per class: [0.95761429 0.53016247]\n",
      "Accuracy: 0.9034916019452103\n",
      "F1-Macro: 0.7635486018787105\n",
      "AUC ROC: 0.8407009208324051\n"
     ]
    },
    {
     "data": {
      "image/png": "[encoded data removed]",
      "text/plain": [
       "<Figure size 800x600 with 2 Axes>"
      ]
     },
     "metadata": {},
     "output_type": "display_data"
    },
    {
     "name": "stdout",
     "output_type": "stream",
     "text": [
      "\n",
      " Top 8 Features (24 bulan):\n",
      "          Feature  Importance\n",
      "173  feature_173    0.058181\n",
      "281  feature_281    0.014328\n",
      "360  feature_360    0.013980\n",
      "95    feature_95    0.013403\n",
      "563  feature_563    0.012288\n",
      "154  feature_154    0.011620\n",
      "155  feature_155    0.010735\n",
      "203  feature_203    0.010116\n",
      "\n",
      "Precision per class (Test) (24 bulan): [0.93603851 0.67065868]\n",
      "Recall per class (Test) (24 bulan): [0.96115819 0.54634146]\n",
      "Accuracy (Test) (24 bulan): 0.9086983343615053\n",
      "F1-Macro (Test) (24 bulan): 0.7752912966917688\n",
      "AUC ROC (Test) (24 bulan): 0.8797058012953011\n"
     ]
    }
   ],
   "source": [
    "# WITH RVI\n",
    "X = data_2tahun[agro_2tahun]\n",
    "y = data_2tahun[\"is_puso\"]\n",
    "metrics_24bulan = training(X, y, \"24 bulan\")\n",
    "#metrics_6bulan = training(X, y, \"Setahun\")\n",
    "#all_metrics.append(metrics_setahun)"
   ]
  },
  {
   "cell_type": "code",
   "execution_count": 183,
   "id": "9ec4ec8e-de01-4b9b-b5f0-8b7327549239",
   "metadata": {},
   "outputs": [
    {
     "name": "stdout",
     "output_type": "stream",
     "text": [
      "ERA5_tp_mean_04\n",
      "ERA5_d2m_mean_16\n",
      "ERA5_pev_mean_57\n",
      "PREC_1\n",
      "ERA5_swvl1_mean_34\n",
      "ERA5_tp_mean_23\n",
      "ERA5_tp_mean_22\n",
      "ERA5_t2m_mean_34\n"
     ]
    }
   ],
   "source": [
    "features_5=[int(i.split('_')[1]) for i in metrics_24bulan['top_5_features']['Feature'].tolist()]\n",
    "for i in features_5:\n",
    "    print(agro_2tahun[i])"
   ]
  },
  {
   "cell_type": "code",
   "execution_count": 166,
   "id": "c500eeaf-a24a-4852-8abc-f836176bd0c1",
   "metadata": {},
   "outputs": [],
   "source": [
    "def training2(X, y, scenario_name, use_gpu=False): \n",
    "    # Convert to numpy for speed\n",
    "    X = X.to_numpy() if isinstance(X, pd.DataFrame) else X\n",
    "    y = y.to_numpy() if isinstance(y, pd.Series) else y\n",
    "    \n",
    "    # Split data into train-test (70%-30%)\n",
    "    X_train, X_test, y_train, y_test = train_test_split(\n",
    "        X, y, test_size=0.3, stratify=y, random_state=1234\n",
    "    )\n",
    "    scale_pos_weight = np.sum(y_train == 0) / np.sum(y_train == 1)  # Majority/Minority class ratio\n",
    "    \n",
    "    # Stratified 3-Fold Cross Validation\n",
    "    skf = StratifiedKFold(n_splits=3, shuffle=True, random_state=1234)\n",
    "    metrics = []\n",
    "    \n",
    "    # Define tree method for GPU acceleration if enabled\n",
    "    tree_method = \"gpu_hist\" if use_gpu else \"hist\"\n",
    "    \n",
    "    for train_idx, val_idx in skf.split(X_train, y_train):\n",
    "        X_train_fold, X_val_fold = X_train[train_idx, :], X_train[val_idx, :]\n",
    "        y_train_fold, y_val_fold = y_train[train_idx], y_train[val_idx]\n",
    "    \n",
    "        # Train XGBoost model with optimizations\n",
    "        model = xgb.XGBClassifier(\n",
    "            use_label_encoder=False,\n",
    "            eval_metric=\"logloss\",\n",
    "            njobs=20,\n",
    "            random_state=1234,\n",
    "            scale_pos_weight=scale_pos_weight,\n",
    "            enable_categorical=False,  # Use False when converting to numpy\n",
    "            tree_method=tree_method,  # GPU or CPU-optimized\n",
    "            max_depth=6,  # Reduce tree depth for speed\n",
    "            learning_rate=0.01,  # Higher learning rate speeds up training\n",
    "            n_estimators=100,  # Reduce estimators for faster training\n",
    "            lambda_=1.0,  # L2 regularization term (Ridge)\n",
    "            alpha=0.5,    # L1 regularization term (Lasso)\n",
    "        )\n",
    "        model.fit(\n",
    "            X_train_fold,\n",
    "            y_train_fold,\n",
    "            eval_set=[(X_val_fold, y_val_fold)],\n",
    "            verbose=False,\n",
    "            #early_stopping_rounds=10  # Stops training if no improvement\n",
    "        )\n",
    "    \n",
    "        # Predict on validation data\n",
    "        y_pred = model.predict(X_val_fold)\n",
    "        y_prob = model.predict_proba(X_val_fold)[:, 1]  # Probabilities for positive class\n",
    "    \n",
    "        # Calculate metrics\n",
    "        precision = precision_score(y_val_fold, y_pred, average=None, zero_division=0)\n",
    "        recall = recall_score(y_val_fold, y_pred, average=None, zero_division=0)\n",
    "        accuracy = accuracy_score(y_val_fold, y_pred)\n",
    "        f1_macro = f1_score(y_val_fold, y_pred, average=\"macro\")\n",
    "        auc = roc_auc_score(y_val_fold, y_prob)\n",
    "    \n",
    "        metrics.append({\n",
    "            \"precision_per_class\": precision,\n",
    "            \"recall_per_class\": recall,\n",
    "            \"accuracy\": accuracy,\n",
    "            \"f1_macro\": f1_macro,\n",
    "            \"auc\": auc\n",
    "        })\n",
    "\n",
    "    # Compute average metrics across folds\n",
    "    avg_precision = np.mean([m[\"precision_per_class\"] for m in metrics], axis=0)\n",
    "    avg_recall = np.mean([m[\"recall_per_class\"] for m in metrics], axis=0)\n",
    "    avg_accuracy = np.mean([m[\"accuracy\"] for m in metrics])\n",
    "    avg_f1_macro = np.mean([m[\"f1_macro\"] for m in metrics])\n",
    "    avg_auc = np.mean([m[\"auc\"] for m in metrics])\n",
    "    \n",
    "    print(f\"Average Metrics across Folds ({scenario_name}):\")\n",
    "    print(\"Precision per class:\", avg_precision)\n",
    "    print(\"Recall per class:\", avg_recall)\n",
    "    print(\"Accuracy:\", avg_accuracy)\n",
    "    print(\"F1-Macro:\", avg_f1_macro)\n",
    "    print(\"AUC ROC:\", avg_auc)\n",
    "    \n",
    "    # Train final model on the full training set\n",
    "    model.fit(X_train, y_train)\n",
    "    y_test_pred = model.predict(X_test)\n",
    "    y_test_prob = model.predict_proba(X_test)[:, 1]  # Probabilities for positive class\n",
    "    \n",
    "    # Confusion Matrix\n",
    "    conf_matrix = confusion_matrix(y_test, y_test_pred)\n",
    "    plt.figure(figsize=(8, 6))\n",
    "    sns.heatmap(conf_matrix, annot=True, fmt=\"d\", cmap=\"Blues\", xticklabels=[\"Class 0\", \"Class 1\"], yticklabels=[\"Class 0\", \"Class 1\"])\n",
    "    plt.xlabel(\"Predicted\")\n",
    "    plt.ylabel(\"True\")\n",
    "    plt.title(f\"Confusion Matrix ({scenario_name})\")\n",
    "    plt.show()\n",
    "\n",
    "    # Feature importance\n",
    "    feature_importances = model.feature_importances_\n",
    "    importance_df = pd.DataFrame({\n",
    "        \"Feature\": [f\"feature_{i}\" for i in range(X_train.shape[1])],\n",
    "        \"Importance\": feature_importances\n",
    "    }).sort_values(by=\"Importance\", ascending=False).head(8)\n",
    "    print(f\"\\n Top 8 Features ({scenario_name}):\\n\", importance_df)\n",
    "\n",
    "    # Final Metrics\n",
    "    precision_test = precision_score(y_test, y_test_pred, average=None, zero_division=0)\n",
    "    recall_test = recall_score(y_test, y_test_pred, average=None, zero_division=0)\n",
    "    accuracy_test = accuracy_score(y_test, y_test_pred)\n",
    "    f1_macro_test = f1_score(y_test, y_test_pred, average=\"macro\")\n",
    "    auc_test = roc_auc_score(y_test, y_test_prob)\n",
    "    \n",
    "    print(f\"\\nPrecision per class (Test) ({scenario_name}):\", precision_test)\n",
    "    print(f\"Recall per class (Test) ({scenario_name}):\", recall_test)\n",
    "    print(f\"Accuracy (Test) ({scenario_name}):\", accuracy_test)\n",
    "    print(f\"F1-Macro (Test) ({scenario_name}):\", f1_macro_test)\n",
    "    print(f\"AUC ROC (Test) ({scenario_name}):\", auc_test)\n",
    "    \n",
    "    return {\n",
    "        \"scenario\": scenario_name,\n",
    "        \"precision_test_class_0\": precision_test[0],\n",
    "        \"precision_test_class_1\": precision_test[1],\n",
    "        \"recall_test_class_0\": recall_test[0],\n",
    "        \"recall_test_class_1\": recall_test[1],\n",
    "        \"accuracy_test\": accuracy_test,\n",
    "        \"f1_macro_test\": f1_macro_test,\n",
    "        \"auc_test\": auc_test,\n",
    "        \"top_5_features\": importance_df\n",
    "    }\n"
   ]
  },
  {
   "cell_type": "code",
   "execution_count": 167,
   "id": "5b0a6c83-f94b-4979-8a19-2b14bfff5d49",
   "metadata": {},
   "outputs": [
    {
     "name": "stdout",
     "output_type": "stream",
     "text": [
      "Average Metrics across Folds (12 bulan):\n",
      "Precision per class: [0.94239319 0.43516351]\n",
      "Recall per class: [0.88041175 0.62832809]\n",
      "Accuracy: 0.8484974551984861\n",
      "F1-Macro: 0.711523711579718\n",
      "AUC ROC: 0.828175822151389\n"
     ]
    },
    {
     "data": {
      "image/png": "[encoded data removed]",
      "text/plain": [
       "<Figure size 800x600 with 2 Axes>"
      ]
     },
     "metadata": {},
     "output_type": "display_data"
    },
    {
     "name": "stdout",
     "output_type": "stream",
     "text": [
      "\n",
      " Top 8 Features (12 bulan):\n",
      "          Feature  Importance\n",
      "104  feature_104    0.059801\n",
      "65    feature_65    0.017549\n",
      "96    feature_96    0.010144\n",
      "261  feature_261    0.009368\n",
      "253  feature_253    0.008083\n",
      "244  feature_244    0.007981\n",
      "264  feature_264    0.007888\n",
      "185  feature_185    0.007810\n",
      "\n",
      "Precision per class (Test) (12 bulan): [0.9478852  0.45791246]\n",
      "Recall per class (Test) (12 bulan): [0.88629944 0.66341463]\n",
      "Accuracy (Test) (12 bulan): 0.8581122763726095\n",
      "F1-Macro (Test) (12 bulan): 0.7289455317416466\n",
      "AUC ROC (Test) (12 bulan): 0.8480105415460933\n"
     ]
    }
   ],
   "source": [
    "X = data_setahun[agro_setahun]\n",
    "y = data_setahun[\"is_puso\"]\n",
    "metrics_12bulan_v2 = training2(X, y, \"12 bulan\")\n",
    "#metrics_6bulan = training(X, y, \"Setahun\")\n",
    "#all_metrics.append(metrics_setahun)"
   ]
  },
  {
   "cell_type": "code",
   "execution_count": 192,
   "id": "83885c47-1e7b-4ae2-a9b9-6391cc135ef1",
   "metadata": {},
   "outputs": [
    {
     "name": "stdout",
     "output_type": "stream",
     "text": [
      "Average Metrics across Folds (12 bulan):\n",
      "Precision per class: [0.94532194 0.37885876]\n",
      "Recall per class: [0.84226461 0.66390199]\n",
      "Accuracy: 0.8196728052398156\n",
      "F1-Macro: 0.6865868888570371\n",
      "AUC ROC: 0.8043003656386323\n"
     ]
    },
    {
     "data": {
      "image/png": "[encoded data removed]",
      "text/plain": [
       "<Figure size 800x600 with 2 Axes>"
      ]
     },
     "metadata": {},
     "output_type": "display_data"
    },
    {
     "name": "stdout",
     "output_type": "stream",
     "text": [
      "\n",
      " Top 8 Features (12 bulan):\n",
      "        Feature  Importance\n",
      "3    feature_3    0.112286\n",
      "35  feature_35    0.037030\n",
      "49  feature_49    0.036786\n",
      "34  feature_34    0.033283\n",
      "57  feature_57    0.027989\n",
      "41  feature_41    0.024476\n",
      "53  feature_53    0.022130\n",
      "60  feature_60    0.020905\n",
      "\n",
      "Precision per class (Test) (12 bulan): [0.94777864 0.40828402]\n",
      "Recall per class (Test) (12 bulan): [0.85875706 0.67317073]\n",
      "Accuracy (Test) (12 bulan): 0.8352868599629858\n",
      "F1-Macro (Test) (12 bulan): 0.7046808824221781\n",
      "AUC ROC (Test) (12 bulan): 0.8325323825272152\n"
     ]
    }
   ],
   "source": [
    "X = data_setahun[ERA5_cols]\n",
    "y = data_setahun[\"is_puso\"]\n",
    "metrics_12bulan_v2 = training2(X, y, \"12 bulan\")\n",
    "#metrics_6bulan = training(X, y, \"Setahun\")\n",
    "#all_metrics.append(metrics_setahun)"
   ]
  }
 ],
 "metadata": {
  "kernelspec": {
   "display_name": "Python 3 (ipykernel)",
   "language": "python",
   "name": "python3"
  },
  "language_info": {
   "codemirror_mode": {
    "name": "ipython",
    "version": 3
   },
   "file_extension": ".py",
   "mimetype": "text/x-python",
   "name": "python",
   "nbconvert_exporter": "python",
   "pygments_lexer": "ipython3",
   "version": "3.10.14"
  }
 },
 "nbformat": 4,
 "nbformat_minor": 5
}
