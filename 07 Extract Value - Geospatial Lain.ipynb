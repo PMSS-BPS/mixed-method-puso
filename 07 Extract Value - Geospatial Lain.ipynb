{
 "cells": [
  {
   "cell_type": "code",
   "execution_count": 1,
   "id": "6096a9cc-13ea-4028-8d7b-c068f11b2e7c",
   "metadata": {},
   "outputs": [],
   "source": [
    "import pandas as pd\n",
    "import geopandas as gpd\n",
    "from shapely.geometry import Point\n",
    "import rasterio\n",
    "from rasterio.sample import sample_gen"
   ]
  },
  {
   "cell_type": "code",
   "execution_count": 6,
   "id": "c5da0b2f-323b-4579-bba2-3a88ce9487cc",
   "metadata": {
    "scrolled": true
   },
   "outputs": [
    {
     "name": "stdout",
     "output_type": "stream",
     "text": [
      "(5399, 13)\n"
     ]
    },
    {
     "data": {
      "text/html": [
       "<div>\n",
       "<style scoped>\n",
       "    .dataframe tbody tr th:only-of-type {\n",
       "        vertical-align: middle;\n",
       "    }\n",
       "\n",
       "    .dataframe tbody tr th {\n",
       "        vertical-align: top;\n",
       "    }\n",
       "\n",
       "    .dataframe thead th {\n",
       "        text-align: right;\n",
       "    }\n",
       "</style>\n",
       "<table border=\"1\" class=\"dataframe\">\n",
       "  <thead>\n",
       "    <tr style=\"text-align: right;\">\n",
       "      <th></th>\n",
       "      <th>idsubsegmen_repair</th>\n",
       "      <th>latitude</th>\n",
       "      <th>longitude</th>\n",
       "      <th>obs</th>\n",
       "      <th>tahun</th>\n",
       "      <th>bulan</th>\n",
       "      <th>kdprov</th>\n",
       "      <th>idsubfinal</th>\n",
       "      <th>idkab</th>\n",
       "      <th>idkec</th>\n",
       "      <th>idsegmen</th>\n",
       "      <th>is_puso</th>\n",
       "      <th>geometry</th>\n",
       "    </tr>\n",
       "  </thead>\n",
       "  <tbody>\n",
       "    <tr>\n",
       "      <th>0</th>\n",
       "      <td>320104008A1</td>\n",
       "      <td>-6.582085</td>\n",
       "      <td>106.646608</td>\n",
       "      <td>6.0</td>\n",
       "      <td>23</td>\n",
       "      <td>9</td>\n",
       "      <td>32</td>\n",
       "      <td>320104008A1239</td>\n",
       "      <td>3201</td>\n",
       "      <td>3201040</td>\n",
       "      <td>320104008</td>\n",
       "      <td>1</td>\n",
       "      <td>POINT (106.64661 -6.58209)</td>\n",
       "    </tr>\n",
       "    <tr>\n",
       "      <th>1</th>\n",
       "      <td>320104008A2</td>\n",
       "      <td>-6.582958</td>\n",
       "      <td>106.646563</td>\n",
       "      <td>6.0</td>\n",
       "      <td>23</td>\n",
       "      <td>9</td>\n",
       "      <td>32</td>\n",
       "      <td>320104008A2239</td>\n",
       "      <td>3201</td>\n",
       "      <td>3201040</td>\n",
       "      <td>320104008</td>\n",
       "      <td>1</td>\n",
       "      <td>POINT (106.64656 -6.58296)</td>\n",
       "    </tr>\n",
       "  </tbody>\n",
       "</table>\n",
       "</div>"
      ],
      "text/plain": [
       "  idsubsegmen_repair  latitude   longitude  obs  tahun  bulan  kdprov  \\\n",
       "0        320104008A1 -6.582085  106.646608  6.0     23      9      32   \n",
       "1        320104008A2 -6.582958  106.646563  6.0     23      9      32   \n",
       "\n",
       "       idsubfinal  idkab    idkec   idsegmen  is_puso  \\\n",
       "0  320104008A1239   3201  3201040  320104008        1   \n",
       "1  320104008A2239   3201  3201040  320104008        1   \n",
       "\n",
       "                     geometry  \n",
       "0  POINT (106.64661 -6.58209)  \n",
       "1  POINT (106.64656 -6.58296)  "
      ]
     },
     "execution_count": 6,
     "metadata": {},
     "output_type": "execute_result"
    }
   ],
   "source": [
    "## Get Data \n",
    "\n",
    "df_ = pd.read_csv(\"/data/raw/Workshop_PUSO.csv\", sep=';')\n",
    "df_ = df_[['idsubsegmen_repair', 'latitude', 'longitude', 'obs', 'tahun', 'bulan',\n",
    "       'kdprov', 'idsubfinal', 'idkab', 'idkec', 'idsegmen', 'is_puso']]\n",
    "df_['geometry'] = df_.apply(lambda row: Point(row['longitude'], row['latitude']), axis=1)\n",
    "gdf_ = gpd.GeoDataFrame(df_, geometry='geometry')\n",
    "print(gdf_.shape)\n",
    "gdf_.head(2)"
   ]
  },
  {
   "cell_type": "markdown",
   "id": "3802ba26-42c4-43b6-8560-c8537cf69e41",
   "metadata": {},
   "source": [
    "### Get Elevation - Pixel Value"
   ]
  },
  {
   "cell_type": "code",
   "execution_count": 8,
   "id": "a117ed0e-2d06-49c2-aa43-d8a1bfa344b1",
   "metadata": {},
   "outputs": [
    {
     "data": {
      "text/html": [
       "<div>\n",
       "<style scoped>\n",
       "    .dataframe tbody tr th:only-of-type {\n",
       "        vertical-align: middle;\n",
       "    }\n",
       "\n",
       "    .dataframe tbody tr th {\n",
       "        vertical-align: top;\n",
       "    }\n",
       "\n",
       "    .dataframe thead th {\n",
       "        text-align: right;\n",
       "    }\n",
       "</style>\n",
       "<table border=\"1\" class=\"dataframe\">\n",
       "  <thead>\n",
       "    <tr style=\"text-align: right;\">\n",
       "      <th></th>\n",
       "      <th>elevation</th>\n",
       "    </tr>\n",
       "  </thead>\n",
       "  <tbody>\n",
       "    <tr>\n",
       "      <th>0</th>\n",
       "      <td>237</td>\n",
       "    </tr>\n",
       "    <tr>\n",
       "      <th>1</th>\n",
       "      <td>240</td>\n",
       "    </tr>\n",
       "  </tbody>\n",
       "</table>\n",
       "</div>"
      ],
      "text/plain": [
       "   elevation\n",
       "0        237\n",
       "1        240"
      ]
     },
     "execution_count": 8,
     "metadata": {},
     "output_type": "execute_result"
    }
   ],
   "source": [
    "# Load Get Value From Raster\n",
    "\n",
    "raster_path = \"data geospasial lain/elevation_Jabar_100m.tif\"  # Replace with your raster file\n",
    "with rasterio.open(raster_path) as src:\n",
    "    coordinates = [(geom.x, geom.y) for geom in gdf_.geometry]\n",
    "    pixel_values = list(src.sample(coordinates))\n",
    "band_names = [\"elevation\"] \n",
    "df_elevation = pd.DataFrame(pixel_values, columns=band_names)\n",
    "df_elevation.head(2)"
   ]
  },
  {
   "cell_type": "code",
   "execution_count": 10,
   "id": "2d1da5aa-9658-49d5-9cd6-ae53c665d564",
   "metadata": {},
   "outputs": [
    {
     "data": {
      "text/html": [
       "<div>\n",
       "<style scoped>\n",
       "    .dataframe tbody tr th:only-of-type {\n",
       "        vertical-align: middle;\n",
       "    }\n",
       "\n",
       "    .dataframe tbody tr th {\n",
       "        vertical-align: top;\n",
       "    }\n",
       "\n",
       "    .dataframe thead th {\n",
       "        text-align: right;\n",
       "    }\n",
       "</style>\n",
       "<table border=\"1\" class=\"dataframe\">\n",
       "  <thead>\n",
       "    <tr style=\"text-align: right;\">\n",
       "      <th></th>\n",
       "      <th>landform</th>\n",
       "    </tr>\n",
       "  </thead>\n",
       "  <tbody>\n",
       "    <tr>\n",
       "      <th>0</th>\n",
       "      <td>21</td>\n",
       "    </tr>\n",
       "    <tr>\n",
       "      <th>1</th>\n",
       "      <td>21</td>\n",
       "    </tr>\n",
       "  </tbody>\n",
       "</table>\n",
       "</div>"
      ],
      "text/plain": [
       "   landform\n",
       "0        21\n",
       "1        21"
      ]
     },
     "execution_count": 10,
     "metadata": {},
     "output_type": "execute_result"
    }
   ],
   "source": [
    "# Load Get Value From Raster\n",
    "\n",
    "raster_path = \"data geospasial lain/landforms_Jabar_100m.tif\"  # Replace with your raster file\n",
    "with rasterio.open(raster_path) as src:\n",
    "    coordinates = [(geom.x, geom.y) for geom in gdf_.geometry]\n",
    "    pixel_values = list(src.sample(coordinates))\n",
    "band_names = [\"landform\"] \n",
    "df_landform = pd.DataFrame(pixel_values, columns=band_names)\n",
    "df_landform.head(2)"
   ]
  },
  {
   "cell_type": "code",
   "execution_count": 11,
   "id": "a4a9b4db-3508-4f3e-963e-765765fff749",
   "metadata": {},
   "outputs": [
    {
     "data": {
      "text/html": [
       "<div>\n",
       "<style scoped>\n",
       "    .dataframe tbody tr th:only-of-type {\n",
       "        vertical-align: middle;\n",
       "    }\n",
       "\n",
       "    .dataframe tbody tr th {\n",
       "        vertical-align: top;\n",
       "    }\n",
       "\n",
       "    .dataframe thead th {\n",
       "        text-align: right;\n",
       "    }\n",
       "</style>\n",
       "<table border=\"1\" class=\"dataframe\">\n",
       "  <thead>\n",
       "    <tr style=\"text-align: right;\">\n",
       "      <th></th>\n",
       "      <th>slope</th>\n",
       "    </tr>\n",
       "  </thead>\n",
       "  <tbody>\n",
       "    <tr>\n",
       "      <th>0</th>\n",
       "      <td>1.854334</td>\n",
       "    </tr>\n",
       "    <tr>\n",
       "      <th>1</th>\n",
       "      <td>1.315798</td>\n",
       "    </tr>\n",
       "  </tbody>\n",
       "</table>\n",
       "</div>"
      ],
      "text/plain": [
       "      slope\n",
       "0  1.854334\n",
       "1  1.315798"
      ]
     },
     "execution_count": 11,
     "metadata": {},
     "output_type": "execute_result"
    }
   ],
   "source": [
    "# Load Get Value From Raster\n",
    "\n",
    "raster_path = \"data geospasial lain/slope_Jabar_100m.tif\"  # Replace with your raster file\n",
    "with rasterio.open(raster_path) as src:\n",
    "    coordinates = [(geom.x, geom.y) for geom in gdf_.geometry]\n",
    "    pixel_values = list(src.sample(coordinates))\n",
    "band_names = [\"slope\"] \n",
    "df_slope = pd.DataFrame(pixel_values, columns=band_names)\n",
    "df_slope.head(2)"
   ]
  },
  {
   "cell_type": "code",
   "execution_count": 14,
   "id": "fe84dfcd-acea-41eb-a005-f30b4dc09df0",
   "metadata": {},
   "outputs": [
    {
     "data": {
      "text/html": [
       "<div>\n",
       "<style scoped>\n",
       "    .dataframe tbody tr th:only-of-type {\n",
       "        vertical-align: middle;\n",
       "    }\n",
       "\n",
       "    .dataframe tbody tr th {\n",
       "        vertical-align: top;\n",
       "    }\n",
       "\n",
       "    .dataframe thead th {\n",
       "        text-align: right;\n",
       "    }\n",
       "</style>\n",
       "<table border=\"1\" class=\"dataframe\">\n",
       "  <thead>\n",
       "    <tr style=\"text-align: right;\">\n",
       "      <th></th>\n",
       "      <th>idsubsegmen_repair</th>\n",
       "      <th>obs</th>\n",
       "      <th>tahun</th>\n",
       "      <th>bulan</th>\n",
       "      <th>kdprov</th>\n",
       "      <th>idsubfinal</th>\n",
       "      <th>idkab</th>\n",
       "      <th>idkec</th>\n",
       "      <th>idsegmen</th>\n",
       "      <th>is_puso</th>\n",
       "      <th>elevation</th>\n",
       "      <th>landform</th>\n",
       "      <th>slope</th>\n",
       "    </tr>\n",
       "  </thead>\n",
       "  <tbody>\n",
       "    <tr>\n",
       "      <th>0</th>\n",
       "      <td>320104008A1</td>\n",
       "      <td>6.0</td>\n",
       "      <td>23</td>\n",
       "      <td>9</td>\n",
       "      <td>32</td>\n",
       "      <td>320104008A1239</td>\n",
       "      <td>3201</td>\n",
       "      <td>3201040</td>\n",
       "      <td>320104008</td>\n",
       "      <td>1</td>\n",
       "      <td>237</td>\n",
       "      <td>21</td>\n",
       "      <td>1.854334</td>\n",
       "    </tr>\n",
       "    <tr>\n",
       "      <th>1</th>\n",
       "      <td>320104008A2</td>\n",
       "      <td>6.0</td>\n",
       "      <td>23</td>\n",
       "      <td>9</td>\n",
       "      <td>32</td>\n",
       "      <td>320104008A2239</td>\n",
       "      <td>3201</td>\n",
       "      <td>3201040</td>\n",
       "      <td>320104008</td>\n",
       "      <td>1</td>\n",
       "      <td>240</td>\n",
       "      <td>21</td>\n",
       "      <td>1.315798</td>\n",
       "    </tr>\n",
       "  </tbody>\n",
       "</table>\n",
       "</div>"
      ],
      "text/plain": [
       "  idsubsegmen_repair  obs  tahun  bulan  kdprov      idsubfinal  idkab  \\\n",
       "0        320104008A1  6.0     23      9      32  320104008A1239   3201   \n",
       "1        320104008A2  6.0     23      9      32  320104008A2239   3201   \n",
       "\n",
       "     idkec   idsegmen  is_puso  elevation  landform     slope  \n",
       "0  3201040  320104008        1        237        21  1.854334  \n",
       "1  3201040  320104008        1        240        21  1.315798  "
      ]
     },
     "execution_count": 14,
     "metadata": {},
     "output_type": "execute_result"
    }
   ],
   "source": [
    "gdf_padi_ = pd.concat([gdf_, df_elevation, df_landform, df_slope], axis=1)\n",
    "gdf_padi_.drop(['longitude','latitude','geometry'], axis='columns', inplace=True)\n",
    "gdf_padi_.head(2)"
   ]
  },
  {
   "cell_type": "code",
   "execution_count": 15,
   "id": "7f4190d7-60e3-4c24-89af-da8fdd144bcf",
   "metadata": {
    "scrolled": true
   },
   "outputs": [],
   "source": [
    "gdf_padi_.to_csv(\"Data untuk modelling/data_compile_agro_geospasial_lain.csv\")"
   ]
  }
 ],
 "metadata": {
  "kernelspec": {
   "display_name": "Python 3 (ipykernel)",
   "language": "python",
   "name": "python3"
  },
  "language_info": {
   "codemirror_mode": {
    "name": "ipython",
    "version": 3
   },
   "file_extension": ".py",
   "mimetype": "text/x-python",
   "name": "python",
   "nbconvert_exporter": "python",
   "pygments_lexer": "ipython3",
   "version": "3.10.14"
  }
 },
 "nbformat": 4,
 "nbformat_minor": 5
}
