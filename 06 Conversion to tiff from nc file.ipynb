{
 "cells": [
  {
   "cell_type": "code",
   "execution_count": 16,
   "id": "fcf1c470-e9da-425e-ba16-3bd6201f83d7",
   "metadata": {},
   "outputs": [
    {
     "name": "stdout",
     "output_type": "stream",
     "text": [
      "Success convert concated_climate_data/concated-ERA5-total_precipitation_0_daily-mean.nc into multi-band GeoTIFF named as concated-ERA5-total_precipitation_0_daily-mean.tif\n",
      "Success convert concated_climate_data/concated-ERA5-convective_rain_rate_0_daily-min.nc into multi-band GeoTIFF named as concated-ERA5-convective_rain_rate_0_daily-min.tif\n",
      "Success convert concated_climate_data/concated-ERA5-total_precipitation_0_daily-min.nc into multi-band GeoTIFF named as concated-ERA5-total_precipitation_0_daily-min.tif\n",
      "Success convert concated_climate_data/concated-ERA5-volumetric_soil_water_layer_1_0_daily-max.nc into multi-band GeoTIFF named as concated-ERA5-volumetric_soil_water_layer_1_0_daily-max.tif\n",
      "Success convert concated_climate_data/concated-ERA5-2m_temperature_0_daily-min.nc into multi-band GeoTIFF named as concated-ERA5-2m_temperature_0_daily-min.tif\n",
      "Success convert concated_climate_data/concated-ERA5-evaporation_0_daily-min.nc into multi-band GeoTIFF named as concated-ERA5-evaporation_0_daily-min.tif\n",
      "Success convert concated_climate_data/concated-ERA5-total_precipitation_0_daily-max.nc into multi-band GeoTIFF named as concated-ERA5-total_precipitation_0_daily-max.tif\n",
      "Success convert concated_climate_data/concated-ERA5-potential_evaporation_0_daily-mean.nc into multi-band GeoTIFF named as concated-ERA5-potential_evaporation_0_daily-mean.tif\n",
      "Success convert concated_climate_data/concated-ERA5-volumetric_soil_water_layer_1_0_daily-mean.nc into multi-band GeoTIFF named as concated-ERA5-volumetric_soil_water_layer_1_0_daily-mean.tif\n",
      "Success convert concated_climate_data/concated-ERA5-2m_dewpoint_temperature_0_daily-min.nc into multi-band GeoTIFF named as concated-ERA5-2m_dewpoint_temperature_0_daily-min.tif\n",
      "Success convert concated_climate_data/concated-ERA5-convective_rain_rate_0_daily-max.nc into multi-band GeoTIFF named as concated-ERA5-convective_rain_rate_0_daily-max.tif\n",
      "Success convert concated_climate_data/concated-ERA5-2m_dewpoint_temperature_0_daily-max.nc into multi-band GeoTIFF named as concated-ERA5-2m_dewpoint_temperature_0_daily-max.tif\n",
      "Success convert concated_climate_data/concated-ERA5-potential_evaporation_0_daily-max.nc into multi-band GeoTIFF named as concated-ERA5-potential_evaporation_0_daily-max.tif\n",
      "Success convert concated_climate_data/concated-ERA5-2m_dewpoint_temperature_0_daily-mean.nc into multi-band GeoTIFF named as concated-ERA5-2m_dewpoint_temperature_0_daily-mean.tif\n",
      "Success convert concated_climate_data/concated-ERA5-volumetric_soil_water_layer_1_0_daily-min.nc into multi-band GeoTIFF named as concated-ERA5-volumetric_soil_water_layer_1_0_daily-min.tif\n",
      "Success convert concated_climate_data/concated-ERA5-soil_temperature_level_1_0_daily-min.nc into multi-band GeoTIFF named as concated-ERA5-soil_temperature_level_1_0_daily-min.tif\n",
      "Success convert concated_climate_data/concated-ERA5-evaporation_0_daily-mean.nc into multi-band GeoTIFF named as concated-ERA5-evaporation_0_daily-mean.tif\n",
      "Success convert concated_climate_data/concated-ERA5-soil_temperature_level_1_0_daily-max.nc into multi-band GeoTIFF named as concated-ERA5-soil_temperature_level_1_0_daily-max.tif\n",
      "Success convert concated_climate_data/concated-ERA5-potential_evaporation_0_daily-min.nc into multi-band GeoTIFF named as concated-ERA5-potential_evaporation_0_daily-min.tif\n",
      "Success convert concated_climate_data/concated-ERA5-convective_rain_rate_0_daily-mean.nc into multi-band GeoTIFF named as concated-ERA5-convective_rain_rate_0_daily-mean.tif\n",
      "Success convert concated_climate_data/concated-ERA5-evaporation_0_daily-max.nc into multi-band GeoTIFF named as concated-ERA5-evaporation_0_daily-max.tif\n",
      "Success convert concated_climate_data/concated-ERA5-soil_temperature_level_1_0_daily-mean.nc into multi-band GeoTIFF named as concated-ERA5-soil_temperature_level_1_0_daily-mean.tif\n",
      "Success convert concated_climate_data/concated-ERA5-2m_temperature_0_daily-mean.nc into multi-band GeoTIFF named as concated-ERA5-2m_temperature_0_daily-mean.tif\n",
      "Success convert concated_climate_data/concated-ERA5-2m_temperature_0_daily-max.nc into multi-band GeoTIFF named as concated-ERA5-2m_temperature_0_daily-max.tif\n"
     ]
    }
   ],
   "source": [
    "import xarray as xr\n",
    "import rasterio\n",
    "from rasterio.transform import from_origin\n",
    "from glob import glob\n",
    "dict_nc_value={\n",
    "    'total_precipitation_0_daily':'tp',\n",
    "    '2m_temperature_0_daily':'t2m',\n",
    "    '2m_dewpoint_temperature_0_daily':'d2m',\n",
    "    'convective_rain_rate_0_daily':'crr',\n",
    "    'potential_evaporation_0_daily':'pev',\n",
    "    'evaporation_0_daily':'e',\n",
    "    'soil_temperature_level_1_0_daily':'stl1',\n",
    "    'volumetric_soil_water_layer_1_0_daily':'swvl1'\n",
    "}\n",
    "ls_nc=glob('concated_climate_data/*.nc')\n",
    "for j in ls_nc:\n",
    "    name_file=j.split('/')[-1].replace('.nc','').split('-')[2]\n",
    "    var_nc=dict_nc_value[name_file]\n",
    "    ds = xr.open_dataset(j)\n",
    "    variable = ds[var_nc]\n",
    "    lat = ds['latitude'].values\n",
    "    lon = ds['longitude'].values\n",
    "    res_lat = abs(lat[1] - lat[0])  # Latitude resolution\n",
    "    res_lon = abs(lon[1] - lon[0])  # Longitude resolution\n",
    "    transform = from_origin(west=lon.min(), north=lat.max(), xsize=res_lon, ysize=res_lat)\n",
    "    data = variable.values  # Extract the 3D array (time, lat, lon)\n",
    "    output_tif = j.split('/')[-1].replace('.nc','.tif')\n",
    "    with rasterio.open(\n",
    "        output_tif,\n",
    "        'w',\n",
    "        driver='GTiff',\n",
    "        height=data.shape[1],  # Number of rows (latitude)\n",
    "        width=data.shape[2],   # Number of columns (longitude)\n",
    "        count=data.shape[0],   # Number of bands (time steps)\n",
    "        dtype=data.dtype,\n",
    "        crs=\"EPSG:4326\",  # WGS84\n",
    "        transform=transform,\n",
    "    ) as dst:\n",
    "        for i in range(data.shape[0]):  # Loop through time steps\n",
    "            dst.write(data[i, :, :], i + 1)  # Write each time step as a band\n",
    "    print(f\"Success convert {j} into multi-band GeoTIFF named as {output_tif}\")"
   ]
  },
  {
   "cell_type": "code",
   "execution_count": null,
   "id": "f9ea0728-3730-4bb3-adc7-bcd610367c2c",
   "metadata": {},
   "outputs": [],
   "source": [
    "# Step 1: Open the NetCDF file\n",
    "nc_file = \"/data/ksa/00_Code/12_Workshop_Puso/concated_climate_data/concated-ERA5-2m_dewpoint_temperature_0_daily-max.nc\"\n"
   ]
  },
  {
   "cell_type": "code",
   "execution_count": 9,
   "id": "a723d959-6f8a-44ef-b554-09d0cb1d58fd",
   "metadata": {},
   "outputs": [],
   "source": [
    "# Create a transform for GeoTIFF\n",
    "transform = from_origin(west=lon.min(), north=lat.max(), xsize=res_lon, ysize=res_lat)\n",
    "\n",
    "# Step 4: Prepare data for writing\n",
    "data = variable.values  # Extract the 3D array (time, lat, lon)\n",
    "\n",
    "# Step 5: Write to a multi-band GeoTIFF\n",
    "output_tif = \"concated-ERA5-2m_dewpoint_temperature_0_daily-max.tif\""
   ]
  },
  {
   "cell_type": "code",
   "execution_count": 10,
   "id": "a3f0ab87-f52f-4fca-be27-722e574c67b4",
   "metadata": {},
   "outputs": [
    {
     "name": "stdout",
     "output_type": "stream",
     "text": [
      "Saved multi-band GeoTIFF to concated-ERA5-2m_dewpoint_temperature_0_daily-max.tif\n"
     ]
    }
   ],
   "source": [
    "with rasterio.open(\n",
    "    output_tif,\n",
    "    'w',\n",
    "    driver='GTiff',\n",
    "    height=data.shape[1],  # Number of rows (latitude)\n",
    "    width=data.shape[2],   # Number of columns (longitude)\n",
    "    count=data.shape[0],   # Number of bands (time steps)\n",
    "    dtype=data.dtype,\n",
    "    crs=\"EPSG:4326\",  # WGS84\n",
    "    transform=transform,\n",
    ") as dst:\n",
    "    for i in range(data.shape[0]):  # Loop through time steps\n",
    "        dst.write(data[i, :, :], i + 1)  # Write each time step as a band\n",
    "\n",
    "print(f\"Saved multi-band GeoTIFF to {output_tif}\")"
   ]
  },
  {
   "cell_type": "code",
   "execution_count": null,
   "id": "4e19e368-d37c-4fab-b75a-6545c9d7a464",
   "metadata": {},
   "outputs": [],
   "source": [
    "\n",
    "# Create a transform for GeoTIFF\n",
    "transform = from_origin(west=lon.min(), north=lat.max(), xsize=res_lon, ysize=res_lat)\n",
    "\n",
    "# Step 4: Prepare data for writing\n",
    "data = variable.values  # Extract the 3D array (time, lat, lon)\n",
    "\n",
    "# Step 5: Write to a multi-band GeoTIFF\n",
    "output_tif = \"output_multiband.tif\"\n",
    "\n",
    "with rasterio.open(\n",
    "    output_tif,\n",
    "    'w',\n",
    "    driver='GTiff',\n",
    "    height=data.shape[1],  # Number of rows (latitude)\n",
    "    width=data.shape[2],   # Number of columns (longitude)\n",
    "    count=data.shape[0],   # Number of bands (time steps)\n",
    "    dtype=data.dtype,\n",
    "    crs=\"EPSG:4326\",  # WGS84\n",
    "    transform=transform,\n",
    ") as dst:\n",
    "    for i in range(data.shape[0]):  # Loop through time steps\n",
    "        dst.write(data[i, :, :], i + 1)  # Write each time step as a band\n",
    "\n",
    "print(f\"Saved multi-band GeoTIFF to {output_tif}\")\n"
   ]
  }
 ],
 "metadata": {
  "kernelspec": {
   "display_name": "Python 3 (ipykernel)",
   "language": "python",
   "name": "python3"
  },
  "language_info": {
   "codemirror_mode": {
    "name": "ipython",
    "version": 3
   },
   "file_extension": ".py",
   "mimetype": "text/x-python",
   "name": "python",
   "nbconvert_exporter": "python",
   "pygments_lexer": "ipython3",
   "version": "3.10.14"
  }
 },
 "nbformat": 4,
 "nbformat_minor": 5
}
